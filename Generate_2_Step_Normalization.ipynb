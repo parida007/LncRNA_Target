{
 "cells": [
  {
   "cell_type": "code",
   "execution_count": 1,
   "metadata": {},
   "outputs": [],
   "source": [
    "%matplotlib inline\n",
    "import pandas as pd\n",
    "\n",
    "import numpy as np\n",
    "import matplotlib.pyplot as plt\n",
    "from sklearn.preprocessing import StandardScaler\n",
    "from sklearn.decomposition import PCA\n",
    "from sklearn.svm import OneClassSVM\n",
    "from sklearn.ensemble import IsolationForest\n",
    "from sklearn.model_selection import train_test_split"
   ]
  },
  {
   "cell_type": "code",
   "execution_count": 2,
   "metadata": {},
   "outputs": [
    {
     "data": {
      "text/plain": [
       "Index(['lncrna', 'mrna', 'lncrna-length', 'mrna-length', 'lncrna-GC%',\n",
       "       'mrna-GC%', 'lncrna-rel_acc_len_ratio', 'mrna-rel_acc_len_ratio',\n",
       "       'hybrid_energy(kcal/mol)', 'lncrna_rel_GC_ratio', 'Class_label'],\n",
       "      dtype='object')"
      ]
     },
     "execution_count": 2,
     "metadata": {},
     "output_type": "execute_result"
    }
   ],
   "source": [
    "Train_Data = pd.read_csv(\"FINAL_UPDATED_8_FEATURES.csv\", sep=\",\", engine=\"python\")\n",
    "#Train_Data = pd.read_csv(\"../PU_Input.csv\", sep=\",\", engine=\"python\")\n",
    "Train_Data.columns"
   ]
  },
  {
   "cell_type": "code",
   "execution_count": 3,
   "metadata": {},
   "outputs": [
    {
     "data": {
      "text/plain": [
       "(131553, 9)"
      ]
     },
     "execution_count": 3,
     "metadata": {},
     "output_type": "execute_result"
    }
   ],
   "source": [
    "rem_cols=['lncrna', 'mrna']\n",
    "Train_Data.drop(rem_cols,inplace=True,axis=1) \n",
    "Train_Data.shape"
   ]
  },
  {
   "cell_type": "code",
   "execution_count": 4,
   "metadata": {},
   "outputs": [],
   "source": [
    "Test_Data_SVM=Train_Data[1675:]\n",
    "Test_Data_IF=Train_Data[1675:]"
   ]
  },
  {
   "cell_type": "code",
   "execution_count": 5,
   "metadata": {},
   "outputs": [
    {
     "data": {
      "text/plain": [
       "((1675, 8), (1675,), (129878, 8))"
      ]
     },
     "execution_count": 5,
     "metadata": {},
     "output_type": "execute_result"
    }
   ],
   "source": [
    "Train_np=Train_Data.values\n",
    "X_Train=Train_np[:1675,:-1]\n",
    "X_Test=Train_np[1675:,:-1]\n",
    "Y_Train=Train_np[:1675,-1]\n",
    "X_Train.shape,Y_Train.shape,X_Test.shape"
   ]
  },
  {
   "cell_type": "code",
   "execution_count": 6,
   "metadata": {},
   "outputs": [],
   "source": [
    "scaler = StandardScaler()\n",
    "X_norm_train=scaler.fit_transform(X_Train)\n",
    "X_norm_test=scaler.fit_transform(X_Test)\n",
    "\n"
   ]
  },
  {
   "cell_type": "code",
   "execution_count": 7,
   "metadata": {},
   "outputs": [
    {
     "data": {
      "text/plain": [
       "((1005, 8), (670, 8))"
      ]
     },
     "execution_count": 7,
     "metadata": {},
     "output_type": "execute_result"
    }
   ],
   "source": [
    "x_train, x_val, y_train, y_val = train_test_split(X_norm_train, Y_Train, test_size=.4,random_state=0)\n",
    "x_train.shape,x_val.shape"
   ]
  },
  {
   "cell_type": "code",
   "execution_count": 9,
   "metadata": {},
   "outputs": [
    {
     "name": "stderr",
     "output_type": "stream",
     "text": [
      "C:\\ProgramData\\Anaconda3\\lib\\site-packages\\sklearn\\svm\\classes.py:1177: DeprecationWarning: The random_state parameter is deprecated and will be removed in version 0.22.\n",
      "  \" be removed in version 0.22.\", DeprecationWarning)\n",
      "C:\\ProgramData\\Anaconda3\\lib\\site-packages\\sklearn\\svm\\base.py:196: FutureWarning: The default value of gamma will change from 'auto' to 'scale' in version 0.22 to account better for unscaled features. Set gamma explicitly to 'auto' or 'scale' to avoid this warning.\n",
      "  \"avoid this warning.\", FutureWarning)\n"
     ]
    },
    {
     "data": {
      "text/plain": [
       "OneClassSVM(cache_size=200, coef0=0.0, degree=3, gamma='auto_deprecated',\n",
       "      kernel='rbf', max_iter=-1, nu=0.012, random_state=0, shrinking=True,\n",
       "      tol=0.001, verbose=False)"
      ]
     },
     "execution_count": 9,
     "metadata": {},
     "output_type": "execute_result"
    }
   ],
   "source": [
    "oc_svm_clf_full = OneClassSVM(kernel='rbf', nu=0.012,random_state=0)\n",
    "oc_svm_clf_full.fit(x_train)"
   ]
  },
  {
   "cell_type": "code",
   "execution_count": 10,
   "metadata": {},
   "outputs": [
    {
     "data": {
      "text/plain": [
       "((974,), (628,))"
      ]
     },
     "execution_count": 10,
     "metadata": {},
     "output_type": "execute_result"
    }
   ],
   "source": [
    "Train_Pred=oc_svm_clf_full.predict(x_train)\n",
    "Val_Pred=oc_svm_clf_full.predict(x_val)\n",
    "Train_Pred[Train_Pred==1].shape,Val_Pred[Val_Pred==1].shape\n",
    "\n"
   ]
  },
  {
   "cell_type": "code",
   "execution_count": 11,
   "metadata": {},
   "outputs": [
    {
     "name": "stderr",
     "output_type": "stream",
     "text": [
      "C:\\ProgramData\\Anaconda3\\lib\\site-packages\\sklearn\\ensemble\\iforest.py:223: FutureWarning: behaviour=\"old\" is deprecated and will be removed in version 0.22. Please use behaviour=\"new\", which makes the decision_function change to match other anomaly detection algorithm API.\n",
      "  FutureWarning)\n"
     ]
    },
    {
     "data": {
      "text/plain": [
       "IsolationForest(behaviour='old', bootstrap=False, contamination=0.012,\n",
       "        max_features=7, max_samples=1.0, n_estimators=100, n_jobs=None,\n",
       "        random_state=0, verbose=0)"
      ]
     },
     "execution_count": 11,
     "metadata": {},
     "output_type": "execute_result"
    }
   ],
   "source": [
    "if_clf = IsolationForest(contamination=0.012, max_features=7, max_samples=1.0, n_estimators=100,random_state=0)\n",
    "if_clf.fit(x_train)"
   ]
  },
  {
   "cell_type": "code",
   "execution_count": 12,
   "metadata": {},
   "outputs": [
    {
     "name": "stderr",
     "output_type": "stream",
     "text": [
      "C:\\ProgramData\\Anaconda3\\lib\\site-packages\\sklearn\\ensemble\\iforest.py:417: DeprecationWarning: threshold_ attribute is deprecated in 0.20 and will be removed in 0.22.\n",
      "  \" be removed in 0.22.\", DeprecationWarning)\n",
      "C:\\ProgramData\\Anaconda3\\lib\\site-packages\\sklearn\\ensemble\\iforest.py:417: DeprecationWarning: threshold_ attribute is deprecated in 0.20 and will be removed in 0.22.\n",
      "  \" be removed in 0.22.\", DeprecationWarning)\n"
     ]
    },
    {
     "data": {
      "text/plain": [
       "((992,), (662,))"
      ]
     },
     "execution_count": 12,
     "metadata": {},
     "output_type": "execute_result"
    }
   ],
   "source": [
    "Train_Pred=if_clf.predict(x_train)\n",
    "Val_Pred=if_clf.predict(x_val)\n",
    "Train_Pred[Train_Pred==1].shape,Val_Pred[Val_Pred==1].shape\n",
    "\n"
   ]
  },
  {
   "cell_type": "code",
   "execution_count": 13,
   "metadata": {},
   "outputs": [
    {
     "name": "stderr",
     "output_type": "stream",
     "text": [
      "C:\\ProgramData\\Anaconda3\\lib\\site-packages\\ipykernel_launcher.py:2: SettingWithCopyWarning: \n",
      "A value is trying to be set on a copy of a slice from a DataFrame.\n",
      "Try using .loc[row_indexer,col_indexer] = value instead\n",
      "\n",
      "See the caveats in the documentation: http://pandas.pydata.org/pandas-docs/stable/indexing.html#indexing-view-versus-copy\n",
      "  \n"
     ]
    },
    {
     "data": {
      "text/plain": [
       "((20900,), (108978,))"
      ]
     },
     "execution_count": 13,
     "metadata": {},
     "output_type": "execute_result"
    }
   ],
   "source": [
    "All_Pred_svm=oc_svm_clf_full.predict(X_norm_test)\n",
    "Test_Data_SVM['Target']=All_Pred_svm\n",
    "All_Pred_svm[All_Pred_svm==-1].shape,All_Pred_svm[All_Pred_svm==1].shape"
   ]
  },
  {
   "cell_type": "code",
   "execution_count": 14,
   "metadata": {},
   "outputs": [
    {
     "data": {
      "text/plain": [
       "array([-1, -1, -1, ..., -1, -1, -1], dtype=int64)"
      ]
     },
     "execution_count": 14,
     "metadata": {},
     "output_type": "execute_result"
    }
   ],
   "source": [
    "All_Pred_svm[All_Pred_svm==-1]"
   ]
  },
  {
   "cell_type": "code",
   "execution_count": 15,
   "metadata": {},
   "outputs": [
    {
     "name": "stderr",
     "output_type": "stream",
     "text": [
      "C:\\ProgramData\\Anaconda3\\lib\\site-packages\\sklearn\\ensemble\\iforest.py:417: DeprecationWarning: threshold_ attribute is deprecated in 0.20 and will be removed in 0.22.\n",
      "  \" be removed in 0.22.\", DeprecationWarning)\n",
      "C:\\ProgramData\\Anaconda3\\lib\\site-packages\\ipykernel_launcher.py:2: SettingWithCopyWarning: \n",
      "A value is trying to be set on a copy of a slice from a DataFrame.\n",
      "Try using .loc[row_indexer,col_indexer] = value instead\n",
      "\n",
      "See the caveats in the documentation: http://pandas.pydata.org/pandas-docs/stable/indexing.html#indexing-view-versus-copy\n",
      "  \n"
     ]
    },
    {
     "data": {
      "text/plain": [
       "((3611,), (126267,))"
      ]
     },
     "execution_count": 15,
     "metadata": {},
     "output_type": "execute_result"
    }
   ],
   "source": [
    "All_Pred_if=if_clf.predict(X_norm_test)\n",
    "Test_Data_IF['Target']=All_Pred_if\n",
    "All_Pred_if[All_Pred_if==-1].shape,All_Pred_if[All_Pred_if==1].shape"
   ]
  },
  {
   "cell_type": "code",
   "execution_count": 16,
   "metadata": {},
   "outputs": [],
   "source": [
    "Test_Data_SVM=Test_Data_SVM[Test_Data_SVM.Target==-1]\n",
    "Test_Data_IF=Test_Data_IF[Test_Data_IF.Target==-1]"
   ]
  },
  {
   "cell_type": "code",
   "execution_count": 17,
   "metadata": {},
   "outputs": [
    {
     "data": {
      "text/html": [
       "<div>\n",
       "<style scoped>\n",
       "    .dataframe tbody tr th:only-of-type {\n",
       "        vertical-align: middle;\n",
       "    }\n",
       "\n",
       "    .dataframe tbody tr th {\n",
       "        vertical-align: top;\n",
       "    }\n",
       "\n",
       "    .dataframe thead th {\n",
       "        text-align: right;\n",
       "    }\n",
       "</style>\n",
       "<table border=\"1\" class=\"dataframe\">\n",
       "  <thead>\n",
       "    <tr style=\"text-align: right;\">\n",
       "      <th></th>\n",
       "      <th>lncrna-length</th>\n",
       "      <th>mrna-length</th>\n",
       "      <th>lncrna-GC%</th>\n",
       "      <th>mrna-GC%</th>\n",
       "      <th>lncrna-rel_acc_len_ratio</th>\n",
       "      <th>mrna-rel_acc_len_ratio</th>\n",
       "      <th>hybrid_energy(kcal/mol)</th>\n",
       "      <th>lncrna_rel_GC_ratio</th>\n",
       "      <th>Class_label</th>\n",
       "      <th>Target</th>\n",
       "    </tr>\n",
       "  </thead>\n",
       "  <tbody>\n",
       "    <tr>\n",
       "      <th>1740</th>\n",
       "      <td>1500</td>\n",
       "      <td>16321</td>\n",
       "      <td>0.361333</td>\n",
       "      <td>0.549109</td>\n",
       "      <td>0.176667</td>\n",
       "      <td>0.336989</td>\n",
       "      <td>-71.8</td>\n",
       "      <td>0.333313</td>\n",
       "      <td>0</td>\n",
       "      <td>-1</td>\n",
       "    </tr>\n",
       "    <tr>\n",
       "      <th>1885</th>\n",
       "      <td>1500</td>\n",
       "      <td>8003</td>\n",
       "      <td>0.361333</td>\n",
       "      <td>0.615894</td>\n",
       "      <td>0.176667</td>\n",
       "      <td>0.281145</td>\n",
       "      <td>-86.1</td>\n",
       "      <td>0.319744</td>\n",
       "      <td>0</td>\n",
       "      <td>-1</td>\n",
       "    </tr>\n",
       "    <tr>\n",
       "      <th>2105</th>\n",
       "      <td>19296</td>\n",
       "      <td>7805</td>\n",
       "      <td>0.411795</td>\n",
       "      <td>0.574888</td>\n",
       "      <td>0.242278</td>\n",
       "      <td>0.133376</td>\n",
       "      <td>-451.7</td>\n",
       "      <td>0.353776</td>\n",
       "      <td>0</td>\n",
       "      <td>-1</td>\n",
       "    </tr>\n",
       "    <tr>\n",
       "      <th>2115</th>\n",
       "      <td>19296</td>\n",
       "      <td>4065</td>\n",
       "      <td>0.411795</td>\n",
       "      <td>0.469373</td>\n",
       "      <td>0.242278</td>\n",
       "      <td>0.160886</td>\n",
       "      <td>-300.1</td>\n",
       "      <td>0.298649</td>\n",
       "      <td>0</td>\n",
       "      <td>-1</td>\n",
       "    </tr>\n",
       "    <tr>\n",
       "      <th>2119</th>\n",
       "      <td>19296</td>\n",
       "      <td>6738</td>\n",
       "      <td>0.411795</td>\n",
       "      <td>0.561146</td>\n",
       "      <td>0.242278</td>\n",
       "      <td>0.222024</td>\n",
       "      <td>-430.1</td>\n",
       "      <td>0.332174</td>\n",
       "      <td>0</td>\n",
       "      <td>-1</td>\n",
       "    </tr>\n",
       "  </tbody>\n",
       "</table>\n",
       "</div>"
      ],
      "text/plain": [
       "      lncrna-length  mrna-length  lncrna-GC%  mrna-GC%  \\\n",
       "1740           1500        16321    0.361333  0.549109   \n",
       "1885           1500         8003    0.361333  0.615894   \n",
       "2105          19296         7805    0.411795  0.574888   \n",
       "2115          19296         4065    0.411795  0.469373   \n",
       "2119          19296         6738    0.411795  0.561146   \n",
       "\n",
       "      lncrna-rel_acc_len_ratio  mrna-rel_acc_len_ratio  \\\n",
       "1740                  0.176667                0.336989   \n",
       "1885                  0.176667                0.281145   \n",
       "2105                  0.242278                0.133376   \n",
       "2115                  0.242278                0.160886   \n",
       "2119                  0.242278                0.222024   \n",
       "\n",
       "      hybrid_energy(kcal/mol)  lncrna_rel_GC_ratio  Class_label  Target  \n",
       "1740                    -71.8             0.333313            0      -1  \n",
       "1885                    -86.1             0.319744            0      -1  \n",
       "2105                   -451.7             0.353776            0      -1  \n",
       "2115                   -300.1             0.298649            0      -1  \n",
       "2119                   -430.1             0.332174            0      -1  "
      ]
     },
     "execution_count": 17,
     "metadata": {},
     "output_type": "execute_result"
    }
   ],
   "source": [
    "Test_Data_IF.head()"
   ]
  },
  {
   "cell_type": "code",
   "execution_count": 18,
   "metadata": {},
   "outputs": [
    {
     "name": "stdout",
     "output_type": "stream",
     "text": [
      "(3487, 9)\n"
     ]
    },
    {
     "data": {
      "text/html": [
       "<div>\n",
       "<style scoped>\n",
       "    .dataframe tbody tr th:only-of-type {\n",
       "        vertical-align: middle;\n",
       "    }\n",
       "\n",
       "    .dataframe tbody tr th {\n",
       "        vertical-align: top;\n",
       "    }\n",
       "\n",
       "    .dataframe thead th {\n",
       "        text-align: right;\n",
       "    }\n",
       "</style>\n",
       "<table border=\"1\" class=\"dataframe\">\n",
       "  <thead>\n",
       "    <tr style=\"text-align: right;\">\n",
       "      <th></th>\n",
       "      <th>lncrna-length</th>\n",
       "      <th>mrna-length</th>\n",
       "      <th>lncrna-GC%</th>\n",
       "      <th>mrna-GC%</th>\n",
       "      <th>lncrna-rel_acc_len_ratio</th>\n",
       "      <th>mrna-rel_acc_len_ratio</th>\n",
       "      <th>hybrid_energy(kcal/mol)</th>\n",
       "      <th>lncrna_rel_GC_ratio</th>\n",
       "      <th>Target</th>\n",
       "    </tr>\n",
       "  </thead>\n",
       "  <tbody>\n",
       "    <tr>\n",
       "      <th>0</th>\n",
       "      <td>1500</td>\n",
       "      <td>16321</td>\n",
       "      <td>0.361333</td>\n",
       "      <td>0.549109</td>\n",
       "      <td>0.176667</td>\n",
       "      <td>0.336989</td>\n",
       "      <td>-71.8</td>\n",
       "      <td>0.333313</td>\n",
       "      <td>0</td>\n",
       "    </tr>\n",
       "    <tr>\n",
       "      <th>1</th>\n",
       "      <td>1500</td>\n",
       "      <td>8003</td>\n",
       "      <td>0.361333</td>\n",
       "      <td>0.615894</td>\n",
       "      <td>0.176667</td>\n",
       "      <td>0.281145</td>\n",
       "      <td>-86.1</td>\n",
       "      <td>0.319744</td>\n",
       "      <td>0</td>\n",
       "    </tr>\n",
       "    <tr>\n",
       "      <th>2</th>\n",
       "      <td>19296</td>\n",
       "      <td>7805</td>\n",
       "      <td>0.411795</td>\n",
       "      <td>0.574888</td>\n",
       "      <td>0.242278</td>\n",
       "      <td>0.133376</td>\n",
       "      <td>-451.7</td>\n",
       "      <td>0.353776</td>\n",
       "      <td>0</td>\n",
       "    </tr>\n",
       "    <tr>\n",
       "      <th>3</th>\n",
       "      <td>19296</td>\n",
       "      <td>4065</td>\n",
       "      <td>0.411795</td>\n",
       "      <td>0.469373</td>\n",
       "      <td>0.242278</td>\n",
       "      <td>0.160886</td>\n",
       "      <td>-300.1</td>\n",
       "      <td>0.298649</td>\n",
       "      <td>0</td>\n",
       "    </tr>\n",
       "    <tr>\n",
       "      <th>4</th>\n",
       "      <td>19296</td>\n",
       "      <td>6738</td>\n",
       "      <td>0.411795</td>\n",
       "      <td>0.561146</td>\n",
       "      <td>0.242278</td>\n",
       "      <td>0.222024</td>\n",
       "      <td>-430.1</td>\n",
       "      <td>0.332174</td>\n",
       "      <td>0</td>\n",
       "    </tr>\n",
       "  </tbody>\n",
       "</table>\n",
       "</div>"
      ],
      "text/plain": [
       "   lncrna-length  mrna-length  lncrna-GC%  mrna-GC%  lncrna-rel_acc_len_ratio  \\\n",
       "0           1500        16321    0.361333  0.549109                  0.176667   \n",
       "1           1500         8003    0.361333  0.615894                  0.176667   \n",
       "2          19296         7805    0.411795  0.574888                  0.242278   \n",
       "3          19296         4065    0.411795  0.469373                  0.242278   \n",
       "4          19296         6738    0.411795  0.561146                  0.242278   \n",
       "\n",
       "   mrna-rel_acc_len_ratio  hybrid_energy(kcal/mol)  lncrna_rel_GC_ratio  \\\n",
       "0                0.336989                    -71.8             0.333313   \n",
       "1                0.281145                    -86.1             0.319744   \n",
       "2                0.133376                   -451.7             0.353776   \n",
       "3                0.160886                   -300.1             0.298649   \n",
       "4                0.222024                   -430.1             0.332174   \n",
       "\n",
       "   Target  \n",
       "0       0  \n",
       "1       0  \n",
       "2       0  \n",
       "3       0  \n",
       "4       0  "
      ]
     },
     "execution_count": 18,
     "metadata": {},
     "output_type": "execute_result"
    }
   ],
   "source": [
    "Reliable_Negative=pd.merge(Test_Data_IF,Test_Data_SVM,how='inner')\n",
    "Reliable_Negative.loc[Reliable_Negative.Target==-1,'Target']=0\n",
    "Reliable_Negative.drop(['Class_label'],inplace=True,axis=1) \n",
    "print(Reliable_Negative.shape)\n",
    "Reliable_Negative.head()"
   ]
  },
  {
   "cell_type": "code",
   "execution_count": 19,
   "metadata": {},
   "outputs": [
    {
     "name": "stderr",
     "output_type": "stream",
     "text": [
      "C:\\ProgramData\\Anaconda3\\lib\\site-packages\\pandas\\core\\frame.py:4025: SettingWithCopyWarning: \n",
      "A value is trying to be set on a copy of a slice from a DataFrame\n",
      "\n",
      "See the caveats in the documentation: http://pandas.pydata.org/pandas-docs/stable/indexing.html#indexing-view-versus-copy\n",
      "  return super(DataFrame, self).rename(**kwargs)\n"
     ]
    },
    {
     "data": {
      "text/html": [
       "<div>\n",
       "<style scoped>\n",
       "    .dataframe tbody tr th:only-of-type {\n",
       "        vertical-align: middle;\n",
       "    }\n",
       "\n",
       "    .dataframe tbody tr th {\n",
       "        vertical-align: top;\n",
       "    }\n",
       "\n",
       "    .dataframe thead th {\n",
       "        text-align: right;\n",
       "    }\n",
       "</style>\n",
       "<table border=\"1\" class=\"dataframe\">\n",
       "  <thead>\n",
       "    <tr style=\"text-align: right;\">\n",
       "      <th></th>\n",
       "      <th>lncrna-length</th>\n",
       "      <th>mrna-length</th>\n",
       "      <th>lncrna-GC%</th>\n",
       "      <th>mrna-GC%</th>\n",
       "      <th>lncrna-rel_acc_len_ratio</th>\n",
       "      <th>mrna-rel_acc_len_ratio</th>\n",
       "      <th>hybrid_energy(kcal/mol)</th>\n",
       "      <th>lncrna_rel_GC_ratio</th>\n",
       "      <th>Target</th>\n",
       "    </tr>\n",
       "  </thead>\n",
       "  <tbody>\n",
       "    <tr>\n",
       "      <th>1670</th>\n",
       "      <td>1733</td>\n",
       "      <td>4127</td>\n",
       "      <td>0.473745</td>\n",
       "      <td>0.431791</td>\n",
       "      <td>0.196769</td>\n",
       "      <td>0.215411</td>\n",
       "      <td>-80.4</td>\n",
       "      <td>0.271308</td>\n",
       "      <td>1</td>\n",
       "    </tr>\n",
       "    <tr>\n",
       "      <th>1671</th>\n",
       "      <td>9027</td>\n",
       "      <td>4127</td>\n",
       "      <td>0.387504</td>\n",
       "      <td>0.431791</td>\n",
       "      <td>0.184004</td>\n",
       "      <td>0.215411</td>\n",
       "      <td>-298.7</td>\n",
       "      <td>0.287054</td>\n",
       "      <td>1</td>\n",
       "    </tr>\n",
       "    <tr>\n",
       "      <th>1672</th>\n",
       "      <td>1989</td>\n",
       "      <td>4127</td>\n",
       "      <td>0.449975</td>\n",
       "      <td>0.431791</td>\n",
       "      <td>0.177979</td>\n",
       "      <td>0.215411</td>\n",
       "      <td>-98.5</td>\n",
       "      <td>0.315878</td>\n",
       "      <td>1</td>\n",
       "    </tr>\n",
       "    <tr>\n",
       "      <th>1673</th>\n",
       "      <td>1852</td>\n",
       "      <td>4127</td>\n",
       "      <td>0.444924</td>\n",
       "      <td>0.431791</td>\n",
       "      <td>0.179266</td>\n",
       "      <td>0.215411</td>\n",
       "      <td>-93.3</td>\n",
       "      <td>0.305047</td>\n",
       "      <td>1</td>\n",
       "    </tr>\n",
       "    <tr>\n",
       "      <th>1674</th>\n",
       "      <td>2111</td>\n",
       "      <td>4127</td>\n",
       "      <td>0.481762</td>\n",
       "      <td>0.431791</td>\n",
       "      <td>0.168167</td>\n",
       "      <td>0.215411</td>\n",
       "      <td>-109.7</td>\n",
       "      <td>0.336095</td>\n",
       "      <td>1</td>\n",
       "    </tr>\n",
       "  </tbody>\n",
       "</table>\n",
       "</div>"
      ],
      "text/plain": [
       "      lncrna-length  mrna-length  lncrna-GC%  mrna-GC%  \\\n",
       "1670           1733         4127    0.473745  0.431791   \n",
       "1671           9027         4127    0.387504  0.431791   \n",
       "1672           1989         4127    0.449975  0.431791   \n",
       "1673           1852         4127    0.444924  0.431791   \n",
       "1674           2111         4127    0.481762  0.431791   \n",
       "\n",
       "      lncrna-rel_acc_len_ratio  mrna-rel_acc_len_ratio  \\\n",
       "1670                  0.196769                0.215411   \n",
       "1671                  0.184004                0.215411   \n",
       "1672                  0.177979                0.215411   \n",
       "1673                  0.179266                0.215411   \n",
       "1674                  0.168167                0.215411   \n",
       "\n",
       "      hybrid_energy(kcal/mol)  lncrna_rel_GC_ratio  Target  \n",
       "1670                    -80.4             0.271308       1  \n",
       "1671                   -298.7             0.287054       1  \n",
       "1672                    -98.5             0.315878       1  \n",
       "1673                    -93.3             0.305047       1  \n",
       "1674                   -109.7             0.336095       1  "
      ]
     },
     "execution_count": 19,
     "metadata": {},
     "output_type": "execute_result"
    }
   ],
   "source": [
    "Positive=Train_Data[:1675]\n",
    "Positive.rename(columns={'Class_label': 'Target'},inplace=True)\n",
    "\n",
    "Positive.tail()"
   ]
  },
  {
   "cell_type": "code",
   "execution_count": 20,
   "metadata": {},
   "outputs": [
    {
     "data": {
      "text/html": [
       "<div>\n",
       "<style scoped>\n",
       "    .dataframe tbody tr th:only-of-type {\n",
       "        vertical-align: middle;\n",
       "    }\n",
       "\n",
       "    .dataframe tbody tr th {\n",
       "        vertical-align: top;\n",
       "    }\n",
       "\n",
       "    .dataframe thead th {\n",
       "        text-align: right;\n",
       "    }\n",
       "</style>\n",
       "<table border=\"1\" class=\"dataframe\">\n",
       "  <thead>\n",
       "    <tr style=\"text-align: right;\">\n",
       "      <th></th>\n",
       "      <th>lncrna-length</th>\n",
       "      <th>mrna-length</th>\n",
       "      <th>lncrna-GC%</th>\n",
       "      <th>mrna-GC%</th>\n",
       "      <th>lncrna-rel_acc_len_ratio</th>\n",
       "      <th>mrna-rel_acc_len_ratio</th>\n",
       "      <th>hybrid_energy(kcal/mol)</th>\n",
       "      <th>lncrna_rel_GC_ratio</th>\n",
       "      <th>Target</th>\n",
       "    </tr>\n",
       "  </thead>\n",
       "  <tbody>\n",
       "    <tr>\n",
       "      <th>0</th>\n",
       "      <td>424</td>\n",
       "      <td>12317</td>\n",
       "      <td>0.356132</td>\n",
       "      <td>0.554599</td>\n",
       "      <td>0.209906</td>\n",
       "      <td>0.158561</td>\n",
       "      <td>-37.9</td>\n",
       "      <td>0.200717</td>\n",
       "      <td>0</td>\n",
       "    </tr>\n",
       "    <tr>\n",
       "      <th>1</th>\n",
       "      <td>8302</td>\n",
       "      <td>874</td>\n",
       "      <td>0.408335</td>\n",
       "      <td>0.607551</td>\n",
       "      <td>0.186943</td>\n",
       "      <td>0.074371</td>\n",
       "      <td>-46.8</td>\n",
       "      <td>0.286882</td>\n",
       "      <td>1</td>\n",
       "    </tr>\n",
       "    <tr>\n",
       "      <th>2</th>\n",
       "      <td>3442</td>\n",
       "      <td>509</td>\n",
       "      <td>0.369843</td>\n",
       "      <td>0.493124</td>\n",
       "      <td>0.173155</td>\n",
       "      <td>0.341847</td>\n",
       "      <td>-52.1</td>\n",
       "      <td>0.390244</td>\n",
       "      <td>0</td>\n",
       "    </tr>\n",
       "    <tr>\n",
       "      <th>3</th>\n",
       "      <td>22743</td>\n",
       "      <td>3122</td>\n",
       "      <td>0.440531</td>\n",
       "      <td>0.475657</td>\n",
       "      <td>0.187662</td>\n",
       "      <td>0.167201</td>\n",
       "      <td>-294.6</td>\n",
       "      <td>0.350796</td>\n",
       "      <td>1</td>\n",
       "    </tr>\n",
       "    <tr>\n",
       "      <th>4</th>\n",
       "      <td>5822</td>\n",
       "      <td>2154</td>\n",
       "      <td>0.588801</td>\n",
       "      <td>0.409935</td>\n",
       "      <td>0.126417</td>\n",
       "      <td>0.167595</td>\n",
       "      <td>-123.4</td>\n",
       "      <td>0.463977</td>\n",
       "      <td>0</td>\n",
       "    </tr>\n",
       "  </tbody>\n",
       "</table>\n",
       "</div>"
      ],
      "text/plain": [
       "   lncrna-length  mrna-length  lncrna-GC%  mrna-GC%  lncrna-rel_acc_len_ratio  \\\n",
       "0            424        12317    0.356132  0.554599                  0.209906   \n",
       "1           8302          874    0.408335  0.607551                  0.186943   \n",
       "2           3442          509    0.369843  0.493124                  0.173155   \n",
       "3          22743         3122    0.440531  0.475657                  0.187662   \n",
       "4           5822         2154    0.588801  0.409935                  0.126417   \n",
       "\n",
       "   mrna-rel_acc_len_ratio  hybrid_energy(kcal/mol)  lncrna_rel_GC_ratio  \\\n",
       "0                0.158561                    -37.9             0.200717   \n",
       "1                0.074371                    -46.8             0.286882   \n",
       "2                0.341847                    -52.1             0.390244   \n",
       "3                0.167201                   -294.6             0.350796   \n",
       "4                0.167595                   -123.4             0.463977   \n",
       "\n",
       "   Target  \n",
       "0       0  \n",
       "1       1  \n",
       "2       0  \n",
       "3       1  \n",
       "4       0  "
      ]
     },
     "execution_count": 20,
     "metadata": {},
     "output_type": "execute_result"
    }
   ],
   "source": [
    "Full_Data=pd.concat([Positive,Reliable_Negative])\n",
    "Full_Data=Full_Data.sample(frac=1,random_state=201).reset_index(drop=True)\n",
    "Full_Data.head()"
   ]
  },
  {
   "cell_type": "code",
   "execution_count": 20,
   "metadata": {},
   "outputs": [],
   "source": [
    "Full_Data.to_csv('FINAL_UPDATED_BINARY_TRAINING.csv',index=False)"
   ]
  },
  {
   "cell_type": "code",
   "execution_count": 21,
   "metadata": {},
   "outputs": [
    {
     "data": {
      "text/plain": [
       "(5162, 9)"
      ]
     },
     "execution_count": 21,
     "metadata": {},
     "output_type": "execute_result"
    }
   ],
   "source": [
    "Full_Data.shape"
   ]
  },
  {
   "cell_type": "code",
   "execution_count": null,
   "metadata": {},
   "outputs": [],
   "source": []
  }
 ],
 "metadata": {
  "kernelspec": {
   "display_name": "Python 3",
   "language": "python",
   "name": "python3"
  },
  "language_info": {
   "codemirror_mode": {
    "name": "ipython",
    "version": 3
   },
   "file_extension": ".py",
   "mimetype": "text/x-python",
   "name": "python",
   "nbconvert_exporter": "python",
   "pygments_lexer": "ipython3",
   "version": "3.7.3"
  }
 },
 "nbformat": 4,
 "nbformat_minor": 2
}
